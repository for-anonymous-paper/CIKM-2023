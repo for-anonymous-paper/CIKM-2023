{
 "cells": [
  {
   "cell_type": "code",
   "execution_count": 1,
   "metadata": {
    "collapsed": true
   },
   "outputs": [],
   "source": [
    "import pandas as pd\n",
    "from numpyencoder import NumpyEncoder\n",
    "import json\n",
    "from util.nn_model import NNModel\n",
    "from util.evaluator import *\n",
    "from sklearn import preprocessing\n",
    "from sklearn.model_selection import train_test_split"
   ]
  },
  {
   "cell_type": "code",
   "execution_count": 2,
   "outputs": [
    {
     "name": "stderr",
     "output_type": "stream",
     "text": [
      "c:\\users\\administrator\\appdata\\local\\programs\\python\\python38\\lib\\site-packages\\sklearn\\base.py:450: UserWarning: X does not have valid feature names, but StandardScaler was fitted with feature names\n",
      "  warnings.warn(\n"
     ]
    }
   ],
   "source": [
    "data = pd.read_csv(\"../../data/Hepatitis/HepatitisC_dataset_processed.csv\")\n",
    "standard_sc = preprocessing.StandardScaler()\n",
    "\n",
    "X = data.drop(['Category'],axis=1)\n",
    "y = data[\"Category\"]\n",
    "train_x, test_x, train_y, test_y = train_test_split(X,y,test_size=0.3,random_state=42,stratify=y)\n",
    "\n",
    "train_x=standard_sc.fit_transform(train_x).astype(np.float32)\n",
    "test_x=standard_sc.transform(test_x).astype(np.float32)\n",
    "\n",
    "train_y = train_y.to_numpy().astype(np.int64)\n",
    "test_y = test_y.to_numpy().astype(np.int64)\n",
    "\n",
    "model = NNModel(\"../../train/hepatitis/Hepatitis_model_simple.pt\")\n",
    "model1 = NNModel(\"../../train/hepatitis/Hepatitis_model_simple_v1.pt\")\n",
    "\n",
    "# obtain true negative set of test set\n",
    "idx = np.where(test_y == 0)[0]\n",
    "pred_y = model.predict(test_x)\n",
    "idx1 = np.where(pred_y == 0)[0]\n",
    "tn_idx = set(idx).intersection(idx1)\n",
    "abnormal_test = test_x[list(tn_idx)]\n",
    "\n",
    "# obtain true positive set of train set\n",
    "idx2 = np.where(train_y == 1)[0]\n",
    "pred_ty = model.predict(train_x)\n",
    "idx3 = np.where(pred_ty == 1)[0]\n",
    "tp_idx = set(idx2).intersection(idx3)\n",
    "normal_test = train_x[list(tp_idx)]\n",
    "\n",
    "# set the normal range\n",
    "normal_range = np.array([[35.6, 30, 10, 10, 0, 5.32, 5.368, 59, 10, 66],\n",
    "    [46, 120, 35, 35, 21, 12.92, 5.368, 84, 42, 87]])\n",
    "normal_range = standard_sc.transform(normal_range).astype(np.float32)\n",
    "normal_range = normal_range * 0.3\n",
    "\n",
    "# initialize the evaluator\n",
    "evaluator = Evaluator(train_x, normal_test)"
   ],
   "metadata": {
    "collapsed": false,
    "pycharm": {
     "name": "#%%\n"
    }
   }
  },
  {
   "cell_type": "code",
   "execution_count": 3,
   "outputs": [],
   "source": [
    "def run_cfmss(json_path):\n",
    "    with open(json_path) as f:\n",
    "        cfmss_json = json.load(f)\n",
    "\n",
    "    cfmss_json.keys()\n",
    "    d = len(cfmss_json['data'][0][0])\n",
    "    cfs_list = cfmss_json['cf']\n",
    "    _cfs_list = cfmss_json['cf2']\n",
    "    diversity_list = []\n",
    "    diversity2_list = []\n",
    "\n",
    "    count_diversity_list = []\n",
    "    count_diversity2_list = []\n",
    "\n",
    "    for cfs, _cfs in zip(cfs_list, _cfs_list):\n",
    "        cfs = [item['cf'] for item in cfs]\n",
    "        cfs = np.reshape(cfs, (-1, d))\n",
    "        # print(cfs.shape)\n",
    "        diversity = evaluator.diversity(cfs)\n",
    "        count_diversity = evaluator.count_diversity(cfs)\n",
    "\n",
    "        _cfs = [item for item in _cfs]\n",
    "        _cfs = np.reshape(_cfs, (-1, d))\n",
    "        print(_cfs.shape)\n",
    "        diversity2 = evaluator.diversity(_cfs)\n",
    "        count_diversity2 = evaluator.count_diversity(_cfs)\n",
    "\n",
    "        diversity_list.append(diversity)\n",
    "        diversity2_list.append(diversity2)\n",
    "        count_diversity_list.append(count_diversity)\n",
    "        count_diversity2_list.append(count_diversity2)\n",
    "\n",
    "    print(cfmss_json['diversity'])\n",
    "    print(diversity_list)\n",
    "\n",
    "    print(cfmss_json['diversity2'])\n",
    "    print(diversity2_list)\n",
    "\n",
    "    # del cfmss_json['diversity']\n",
    "    # del cfmss_json['diversity2']\n",
    "    # del cfmss_json['count_diversity']\n",
    "    # del cfmss_json\n",
    "\n",
    "    cfmss_json['diversity'] = diversity_list\n",
    "    cfmss_json['diversity2'] = diversity2_list\n",
    "    cfmss_json['count_diversity'] = count_diversity_list\n",
    "    cfmss_json['count_diversity2'] = count_diversity2_list\n",
    "    with open(json_path, \"w\") as f:\n",
    "        json.dump(cfmss_json, f, cls = NumpyEncoder)\n",
    "\n",
    "def run(json_path):\n",
    "    with open(json_path) as f:\n",
    "        cfmss_json = json.load(f)\n",
    "\n",
    "    cfmss_json.keys()\n",
    "    d = len(cfmss_json['data'][0][0])\n",
    "    cfs_lists = cfmss_json['cf']\n",
    "    diversity_list = []\n",
    "    diversity2_list = []\n",
    "\n",
    "    count_diversity_list = []\n",
    "    count_diversity2_list = []\n",
    "\n",
    "    for cfs_list in cfs_lists:\n",
    "\n",
    "        cfs = [_tmp_result['cf'] for _tmp_result in cfs_list]\n",
    "        cfs = np.reshape(cfs, (-1, d))\n",
    "        diversity = evaluator.diversity(cfs)\n",
    "        count_diversity = evaluator.count_diversity(cfs)\n",
    "\n",
    "        _cfs = [_tmp_result['cf2'] for _tmp_result in cfs_list]\n",
    "        _cfs = np.reshape(_cfs, (-1, d))\n",
    "        diversity2 = evaluator.diversity(_cfs)\n",
    "        count_diversity2 = evaluator.count_diversity(_cfs)\n",
    "\n",
    "        diversity_list.append(diversity)\n",
    "        diversity2_list.append(diversity2)\n",
    "        count_diversity_list.append(count_diversity)\n",
    "        count_diversity2_list.append(count_diversity2)\n",
    "\n",
    "    print(cfmss_json['diversity'])\n",
    "    print(diversity_list)\n",
    "\n",
    "    print(cfmss_json['diversity2'])\n",
    "    print(diversity2_list)\n",
    "\n",
    "    # del cfmss_json['diversity']\n",
    "    # del cfmss_json['diversity2']\n",
    "\n",
    "    cfmss_json['diversity'] = diversity_list\n",
    "    cfmss_json['diversity2'] = diversity2_list\n",
    "    cfmss_json['count_diversity'] = count_diversity_list\n",
    "    cfmss_json['count_diversity2'] = count_diversity2_list\n",
    "    with open(json_path, \"w\") as f:\n",
    "        json.dump(cfmss_json, f, cls = NumpyEncoder)"
   ],
   "metadata": {
    "collapsed": false,
    "pycharm": {
     "name": "#%%\n"
    }
   }
  },
  {
   "cell_type": "code",
   "execution_count": 4,
   "outputs": [],
   "source": [
    "cfmss_path = 'Hepatitis_cfmss.json'\n",
    "cfproto_path = 'Hepatitis_cfproto.json'\n",
    "dice_path = 'Hepatitis_dice.json'\n",
    "gs_path = 'Hepatitis_growingsphere.json'\n",
    "plaincf_path = 'Hepatitis_plaincf.json'"
   ],
   "metadata": {
    "collapsed": false,
    "pycharm": {
     "name": "#%%\n"
    }
   }
  },
  {
   "cell_type": "code",
   "execution_count": 5,
   "outputs": [
    {
     "name": "stdout",
     "output_type": "stream",
     "text": [
      "(1, 10)\n",
      "(3, 10)\n",
      "(5, 10)\n",
      "(1, 10)\n",
      "(1, 10)\n",
      "(1, 10)\n",
      "(1, 10)\n",
      "(1, 10)\n",
      "(2, 10)\n",
      "(1, 10)\n",
      "(0, 10)\n",
      "(1, 10)\n",
      "(2, 10)\n",
      "(5, 10)\n",
      "(1, 10)\n",
      "(2, 10)\n",
      "(1, 10)\n",
      "(2, 10)\n",
      "(2, 10)\n",
      "(1, 10)\n",
      "[0.03479232022045804, 0.09916202777834471, 0.0648786420050576, 0.1294098894005689, 0.13739285748152297, 0.03259569516372558, -1, -1, -1, 0.11888775862509689, -1, 0.04969517144561184, 0.11607364264839976, 0.18381163226720063, -1, 0.08276135114345445, -1, 0.37087394742351176, 0.15470839809956707, 0.3233145505218759]\n",
      "[0.3479232022045804, 0.9916202777834471, 0.648786420050576, 1.294098894005689, 1.3739285748152297, 0.3259569516372558, -1, -1, -1, 1.1888775862509688, -1, 0.4969517144561184, 1.1607364264839977, 1.8381163226720063, -1, 0.8276135114345445, -1, 3.708739474235118, 1.5470839809956707, 3.233145505218759]\n",
      "[-1, 0.0877113322458741, 0.09726830084802703, -1, -1, -1, -1, -1, 0.14603636808545903, -1, -1, -1, 0.14225725913241935, 0.18381163226720063, -1, 0.14319602055461417, -1, 0.39143500692694755, 0.06568261260907263, -1]\n",
      "[-1, 0.8771133224587411, 0.9726830084802703, -1, -1, -1, -1, -1, 1.4603636808545903, -1, -1, -1, 1.4225725913241936, 1.8381163226720063, -1, 1.4319602055461416, -1, 3.9143500692694757, 0.6568261260907263, -1]\n",
      "[0.017453744132234498, 0.1799926838182455, 0.039690744874569465, 0.2654392834413161, 0.16037097551690827, 0.1453887808354825, -1, -1, -1, 0.09768848486472596, -1, 0.03308617242227987, 0.21228221842471762, 0.12608700599511485, -1, 0.14253112490092432, -1, 0.22540494536029532, 0.15654682397846215, 0.1609235065135848]\n",
      "[0.17453744132234497, 1.7999268381824551, 0.39690744874569467, 2.6543928344131613, 1.6037097551690827, 1.4538878083548252, -1, -1, -1, 0.9768848486472597, -1, 0.3308617242227987, 2.1228221842471764, 1.2608700599511486, -1, 1.4253112490092432, -1, 2.254049453602953, 1.5654682397846216, 1.609235065135848]\n",
      "[0.013259801233798885, 0.10319245764718152, 0.10666199752174625, 0.15841602191394732, 0.1965459141431961, 0.13287241590392526, -1, -1, -1, 0.11773957254139349, -1, 0.15332593796075297, 0.11689419031421852, 0.015462668050312284, -1, 0.14814872668268214, -1, 0.2620979271272873, 0.20270301781347533, 0.13574551365493995]\n",
      "[0.13259801233798885, 1.0319245764718152, 1.0666199752174625, 1.584160219139473, 1.965459141431961, 1.3287241590392527, -1, -1, -1, 1.177395725413935, -1, 1.5332593796075298, 1.1689419031421853, 0.15462668050312284, -1, 1.4814872668268215, -1, 2.620979271272873, 2.0270301781347535, 1.3574551365493994]\n",
      "[0.2448312444774521, 0.22456485801642442, 0.36654309686241265, 0.4069113236989981, 0.3576984703769736, 0.15204800350271713, -1, -1, -1, 0.1538904858243442, -1, 0.27781552701445084, 0.3072816533801774, 0.3888138837696028, -1, 0.361047366274331, -1, 0.11713668006847469, 0.3374118081773873, 0.15735758624514062]\n",
      "[2.4483124447745213, 2.2456485801642443, 3.665430968624127, 4.06911323698998, 3.576984703769736, 1.5204800350271714, -1, -1, -1, 1.538904858243442, -1, 2.778155270144508, 3.072816533801774, 3.888138837696028, -1, 3.61047366274331, -1, 1.1713668006847469, 3.374118081773873, 1.5735758624514062]\n",
      "[0.26781688302131834, 0.21389188270936477, 0.39355380689369385, 0.4078158656526354, 0.38962727864154545, 0.148904272910673, -1, -1, -1, 0.2156172349022361, -1, 0.2450669538761026, 0.2685415012108635, 0.44049789863299454, -1, 0.31996342851941945, -1, 0.14194936839929445, 0.41820819450264196, 0.22891959744007964]\n",
      "[2.6781688302131834, 2.1389188270936477, 3.9355380689369386, 4.0781586565263535, 3.8962727864154543, 1.48904272910673, -1, -1, -1, 2.156172349022361, -1, 2.450669538761026, 2.685415012108635, 4.404978986329946, -1, 3.1996342851941946, -1, 1.4194936839929446, 4.18208194502642, 2.2891959744007964]\n",
      "[0.11767006487981391, 0.058659211781649415, 0.15173220607574633, 0.33916600045905426, 0.23473400509435863, -1, -1, -1, 0.48520419218928945, -1, 0.0293675551650279, 0.6576293746950496, 0.003480187946308142, -1, 0.09863605795531193, -1, 0.18188269209470817, 0.46202308909219747, 0.3508736967973178]\n",
      "[1.176700648798139, 0.5865921178164941, 1.5173220607574636, 3.3916600045905425, 2.347340050943586, -1, -1, -1, 4.852041921892894, -1, 0.293675551650279, 6.576293746950495, 0.03480187946308142, -1, 0.9863605795531193, -1, 1.8188269209470818, 4.620230890921975, 3.508736967973178]\n",
      "[0.11054424748086693, 0.05023621651304562, 0.10752623584634832, 0.2858360863209269, 0.2505791213618238, -1, -1, -1, 0.5691055970098843, -1, 0.0520310288194203, 0.6282991787778526, 0.005496997500792045, -1, 0.10958657127750779, -1, 0.18731399290088738, 0.48618820533515156, 0.35683025725281325]\n",
      "[1.1054424748086693, 0.5023621651304562, 1.0752623584634833, 2.858360863209269, 2.505791213618238, -1, -1, -1, 5.691055970098843, -1, 0.520310288194203, 6.282991787778525, 0.054969975007920446, -1, 1.095865712775078, -1, 1.8731399290088737, 4.861882053351516, 3.5683025725281325]\n",
      "[0.1850609934271204, 0.1706925925668675, 0.22811426356798584, 0.34299567422302535, 0.3474840919124905, 0.15973285677242366, -1, -1, -1, 0.18291719210080779, -1, 0.19391878589742415, 0.36401726906984394, 0.5055554083487472, -1, 0.3527409559555205, -1, 0.34189140803376794, 0.31996465540894936, 0.349193960426019]\n",
      "[1.850609934271204, 1.706925925668675, 2.2811426356798585, 3.429956742230254, 3.4748409191249054, 1.5973285677242366, -1, -1, -1, 1.829171921008078, -1, 1.9391878589742415, 3.640172690698439, 5.055554083487472, -1, 3.527409559555205, -1, 3.418914080337679, 3.199646554089494, 3.4919396042601902]\n",
      "[0.05908022851678536, 0.39139903768466144, 0.2762348862258278, 0.36591536784815154, 0.29493074734274266, 0.23484608539209323, -1, -1, -1, 0.11789383483004687, -1, 0.1350878489789966, 0.2561177958870268, 0.14643273661759884, -1, 0.19050229186182924, -1, 0.5142006661315595, 0.2613820781020702, 0.24812090362069886]\n",
      "[0.5908022851678536, 3.9139903768466144, 2.7623488622582784, 3.6591536784815153, 2.9493074734274267, 2.3484608539209324, -1, -1, -1, 1.1789383483004687, -1, 1.350878489789966, 2.561177958870268, 1.4643273661759886, -1, 1.9050229186182923, -1, 5.142006661315595, 2.613820781020702, 2.4812090362069887]\n"
     ]
    }
   ],
   "source": [
    "run_cfmss(cfmss_path)\n",
    "run(cfproto_path)\n",
    "run(dice_path)\n",
    "run(gs_path)\n",
    "run(plaincf_path)"
   ],
   "metadata": {
    "collapsed": false,
    "pycharm": {
     "name": "#%%\n"
    }
   }
  },
  {
   "cell_type": "code",
   "execution_count": 5,
   "outputs": [],
   "source": [],
   "metadata": {
    "collapsed": false,
    "pycharm": {
     "name": "#%%\n"
    }
   }
  }
 ],
 "metadata": {
  "kernelspec": {
   "display_name": "Python 3",
   "language": "python",
   "name": "python3"
  },
  "language_info": {
   "codemirror_mode": {
    "name": "ipython",
    "version": 2
   },
   "file_extension": ".py",
   "mimetype": "text/x-python",
   "name": "python",
   "nbconvert_exporter": "python",
   "pygments_lexer": "ipython2",
   "version": "2.7.6"
  }
 },
 "nbformat": 4,
 "nbformat_minor": 0
}