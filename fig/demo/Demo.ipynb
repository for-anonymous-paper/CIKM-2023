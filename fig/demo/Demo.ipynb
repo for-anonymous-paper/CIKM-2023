{
 "cells": [
  {
   "cell_type": "code",
   "execution_count": 1,
   "metadata": {},
   "outputs": [],
   "source": [
    "import matplotlib.pyplot as plt\n",
    "import numpy as np\n",
    "import pandas as pd\n",
    "import copy\n",
    "import sys\n",
    "import torch\n",
    "import random\n",
    "from sklearn.metrics import accuracy_score\n",
    "import torch.optim as optim\n",
    "import torch.nn as nn\n",
    "from sklearn.preprocessing import StandardScaler\n",
    "from torch.utils.data import TensorDataset, DataLoader\n",
    "import matplotlib\n",
    "\n",
    "%matplotlib inline"
   ]
  },
  {
   "cell_type": "code",
   "execution_count": 2,
   "metadata": {},
   "outputs": [
    {
     "data": {
      "image/png": "[encoded data removed]",
      "text/plain": [
       "<Figure size 432x288 with 1 Axes>"
      ]
     },
     "metadata": {
      "needs_background": "light"
     },
     "output_type": "display_data"
    }
   ],
   "source": [
    "mu1 = 0\n",
    "sigma1 = 1\n",
    "A = np.random.normal(mu1, sigma1, 600)\n",
    "count, bins, ignored = plt.hist(A, 30, density=True)\n",
    "plt.plot(bins, 1/(sigma1 * np.sqrt(2 * np.pi)) *\n",
    "               np.exp( - (bins - mu1)**2 / (2 * sigma1**2) ),\n",
    "         linewidth=2, color='r')\n",
    "plt.show()"
   ]
  },
  {
   "cell_type": "code",
   "execution_count": 3,
   "metadata": {},
   "outputs": [
    {
     "data": {
      "image/png": "[encoded data removed]",
      "text/plain": [
       "<Figure size 432x288 with 1 Axes>"
      ]
     },
     "metadata": {
      "needs_background": "light"
     },
     "output_type": "display_data"
    }
   ],
   "source": [
    "mu2 = 0\n",
    "sigma2 = 1\n",
    "B = np.random.normal(mu2, sigma2, 600)\n",
    "count, bins, ignored = plt.hist(B, 30, density=True)\n",
    "plt.plot(bins, 1/(sigma2 * np.sqrt(2 * np.pi)) *\n",
    "               np.exp( - (bins - mu2)**2 / (2 * sigma2**2) ),\n",
    "         linewidth=2, color='r')\n",
    "plt.show()"
   ]
  },
  {
   "cell_type": "code",
   "execution_count": 4,
   "metadata": {},
   "outputs": [],
   "source": [
    "data = np.vstack((A, B))\n",
    "data = data.transpose()\n",
    "df = pd.DataFrame(data = data, index=list(range(600)), columns = ['A', 'B'])\n",
    "df['Y'] = 0 #default is health"
   ]
  },
  {
   "cell_type": "code",
   "execution_count": 5,
   "metadata": {
    "scrolled": false
   },
   "outputs": [
    {
     "data": {
      "text/html": [
       "<div>\n",
       "<style scoped>\n",
       "    .dataframe tbody tr th:only-of-type {\n",
       "        vertical-align: middle;\n",
       "    }\n",
       "\n",
       "    .dataframe tbody tr th {\n",
       "        vertical-align: top;\n",
       "    }\n",
       "\n",
       "    .dataframe thead th {\n",
       "        text-align: right;\n",
       "    }\n",
       "</style>\n",
       "<table border=\"1\" class=\"dataframe\">\n",
       "  <thead>\n",
       "    <tr style=\"text-align: right;\">\n",
       "      <th></th>\n",
       "      <th>A</th>\n",
       "      <th>B</th>\n",
       "      <th>Y</th>\n",
       "    </tr>\n",
       "  </thead>\n",
       "  <tbody>\n",
       "    <tr>\n",
       "      <th>0</th>\n",
       "      <td>-2.193420</td>\n",
       "      <td>-0.927766</td>\n",
       "      <td>0</td>\n",
       "    </tr>\n",
       "    <tr>\n",
       "      <th>1</th>\n",
       "      <td>-0.801195</td>\n",
       "      <td>0.636001</td>\n",
       "      <td>0</td>\n",
       "    </tr>\n",
       "    <tr>\n",
       "      <th>2</th>\n",
       "      <td>-0.404160</td>\n",
       "      <td>2.522074</td>\n",
       "      <td>0</td>\n",
       "    </tr>\n",
       "    <tr>\n",
       "      <th>3</th>\n",
       "      <td>-0.776348</td>\n",
       "      <td>0.029055</td>\n",
       "      <td>0</td>\n",
       "    </tr>\n",
       "    <tr>\n",
       "      <th>4</th>\n",
       "      <td>-0.014683</td>\n",
       "      <td>1.022358</td>\n",
       "      <td>0</td>\n",
       "    </tr>\n",
       "  </tbody>\n",
       "</table>\n",
       "</div>"
      ],
      "text/plain": [
       "          A         B  Y\n",
       "0 -2.193420 -0.927766  0\n",
       "1 -0.801195  0.636001  0\n",
       "2 -0.404160  2.522074  0\n",
       "3 -0.776348  0.029055  0\n",
       "4 -0.014683  1.022358  0"
      ]
     },
     "execution_count": 5,
     "metadata": {},
     "output_type": "execute_result"
    }
   ],
   "source": [
    "df.head(5)"
   ]
  },
  {
   "cell_type": "code",
   "execution_count": 6,
   "metadata": {},
   "outputs": [],
   "source": [
    "A_ = 0.54\n",
    "B_ = 0.54"
   ]
  },
  {
   "cell_type": "markdown",
   "metadata": {},
   "source": [
    "# The possible of unhealthy subsets\n",
    "\n",
    "- case 1: feature A > 0.54 (30%)\n",
    "- case 2: feature B > 0.54 (30%)"
   ]
  },
  {
   "cell_type": "code",
   "execution_count": 7,
   "metadata": {},
   "outputs": [],
   "source": [
    "df.iloc[(df.A > A_) | ((df.B > B_)), 2] = 1"
   ]
  },
  {
   "cell_type": "code",
   "execution_count": 8,
   "metadata": {},
   "outputs": [
    {
     "data": {
      "text/html": [
       "<div>\n",
       "<style scoped>\n",
       "    .dataframe tbody tr th:only-of-type {\n",
       "        vertical-align: middle;\n",
       "    }\n",
       "\n",
       "    .dataframe tbody tr th {\n",
       "        vertical-align: top;\n",
       "    }\n",
       "\n",
       "    .dataframe thead th {\n",
       "        text-align: right;\n",
       "    }\n",
       "</style>\n",
       "<table border=\"1\" class=\"dataframe\">\n",
       "  <thead>\n",
       "    <tr style=\"text-align: right;\">\n",
       "      <th></th>\n",
       "      <th>A</th>\n",
       "      <th>B</th>\n",
       "      <th>Y</th>\n",
       "    </tr>\n",
       "  </thead>\n",
       "  <tbody>\n",
       "    <tr>\n",
       "      <th>0</th>\n",
       "      <td>-2.193420</td>\n",
       "      <td>-0.927766</td>\n",
       "      <td>0</td>\n",
       "    </tr>\n",
       "    <tr>\n",
       "      <th>1</th>\n",
       "      <td>-0.801195</td>\n",
       "      <td>0.636001</td>\n",
       "      <td>1</td>\n",
       "    </tr>\n",
       "    <tr>\n",
       "      <th>2</th>\n",
       "      <td>-0.404160</td>\n",
       "      <td>2.522074</td>\n",
       "      <td>1</td>\n",
       "    </tr>\n",
       "    <tr>\n",
       "      <th>3</th>\n",
       "      <td>-0.776348</td>\n",
       "      <td>0.029055</td>\n",
       "      <td>0</td>\n",
       "    </tr>\n",
       "    <tr>\n",
       "      <th>4</th>\n",
       "      <td>-0.014683</td>\n",
       "      <td>1.022358</td>\n",
       "      <td>1</td>\n",
       "    </tr>\n",
       "    <tr>\n",
       "      <th>5</th>\n",
       "      <td>-1.139635</td>\n",
       "      <td>0.476476</td>\n",
       "      <td>0</td>\n",
       "    </tr>\n",
       "    <tr>\n",
       "      <th>6</th>\n",
       "      <td>-0.773311</td>\n",
       "      <td>1.140425</td>\n",
       "      <td>1</td>\n",
       "    </tr>\n",
       "    <tr>\n",
       "      <th>7</th>\n",
       "      <td>1.138393</td>\n",
       "      <td>-0.074017</td>\n",
       "      <td>1</td>\n",
       "    </tr>\n",
       "    <tr>\n",
       "      <th>8</th>\n",
       "      <td>0.293793</td>\n",
       "      <td>1.234495</td>\n",
       "      <td>1</td>\n",
       "    </tr>\n",
       "    <tr>\n",
       "      <th>9</th>\n",
       "      <td>-0.141224</td>\n",
       "      <td>0.825986</td>\n",
       "      <td>1</td>\n",
       "    </tr>\n",
       "    <tr>\n",
       "      <th>10</th>\n",
       "      <td>-0.523307</td>\n",
       "      <td>-0.339032</td>\n",
       "      <td>0</td>\n",
       "    </tr>\n",
       "    <tr>\n",
       "      <th>11</th>\n",
       "      <td>-1.019434</td>\n",
       "      <td>0.459664</td>\n",
       "      <td>0</td>\n",
       "    </tr>\n",
       "    <tr>\n",
       "      <th>12</th>\n",
       "      <td>0.258096</td>\n",
       "      <td>-1.042318</td>\n",
       "      <td>0</td>\n",
       "    </tr>\n",
       "    <tr>\n",
       "      <th>13</th>\n",
       "      <td>-2.002858</td>\n",
       "      <td>-0.384534</td>\n",
       "      <td>0</td>\n",
       "    </tr>\n",
       "    <tr>\n",
       "      <th>14</th>\n",
       "      <td>1.167032</td>\n",
       "      <td>-1.149908</td>\n",
       "      <td>1</td>\n",
       "    </tr>\n",
       "    <tr>\n",
       "      <th>15</th>\n",
       "      <td>0.313392</td>\n",
       "      <td>0.338884</td>\n",
       "      <td>0</td>\n",
       "    </tr>\n",
       "    <tr>\n",
       "      <th>16</th>\n",
       "      <td>0.229655</td>\n",
       "      <td>-0.344869</td>\n",
       "      <td>0</td>\n",
       "    </tr>\n",
       "    <tr>\n",
       "      <th>17</th>\n",
       "      <td>-0.190410</td>\n",
       "      <td>1.301028</td>\n",
       "      <td>1</td>\n",
       "    </tr>\n",
       "    <tr>\n",
       "      <th>18</th>\n",
       "      <td>0.796612</td>\n",
       "      <td>-0.224668</td>\n",
       "      <td>1</td>\n",
       "    </tr>\n",
       "    <tr>\n",
       "      <th>19</th>\n",
       "      <td>1.536905</td>\n",
       "      <td>-0.881431</td>\n",
       "      <td>1</td>\n",
       "    </tr>\n",
       "  </tbody>\n",
       "</table>\n",
       "</div>"
      ],
      "text/plain": [
       "           A         B  Y\n",
       "0  -2.193420 -0.927766  0\n",
       "1  -0.801195  0.636001  1\n",
       "2  -0.404160  2.522074  1\n",
       "3  -0.776348  0.029055  0\n",
       "4  -0.014683  1.022358  1\n",
       "5  -1.139635  0.476476  0\n",
       "6  -0.773311  1.140425  1\n",
       "7   1.138393 -0.074017  1\n",
       "8   0.293793  1.234495  1\n",
       "9  -0.141224  0.825986  1\n",
       "10 -0.523307 -0.339032  0\n",
       "11 -1.019434  0.459664  0\n",
       "12  0.258096 -1.042318  0\n",
       "13 -2.002858 -0.384534  0\n",
       "14  1.167032 -1.149908  1\n",
       "15  0.313392  0.338884  0\n",
       "16  0.229655 -0.344869  0\n",
       "17 -0.190410  1.301028  1\n",
       "18  0.796612 -0.224668  1\n",
       "19  1.536905 -0.881431  1"
      ]
     },
     "execution_count": 8,
     "metadata": {},
     "output_type": "execute_result"
    }
   ],
   "source": [
    "df.head(20)"
   ]
  },
  {
   "cell_type": "code",
   "execution_count": 9,
   "metadata": {},
   "outputs": [],
   "source": [
    "data = df.to_numpy()"
   ]
  },
  {
   "cell_type": "code",
   "execution_count": 10,
   "metadata": {},
   "outputs": [
    {
     "data": {
      "image/png": "[encoded data removed]",
      "text/plain": [
       "<Figure size 432x288 with 1 Axes>"
      ]
     },
     "metadata": {
      "needs_background": "light"
     },
     "output_type": "display_data"
    }
   ],
   "source": [
    "plt.scatter(data[:, 0], data[:, 1], c = data[:, 2])\n",
    "plt.xlabel(\"x1\")\n",
    "plt.ylabel(\"X2\")\n",
    "plt.show()"
   ]
  },
  {
   "cell_type": "code",
   "execution_count": 11,
   "metadata": {},
   "outputs": [],
   "source": [
    "#df.to_csv(\"synthetic_data_simple.csv\", header = False, index = False)"
   ]
  },
  {
   "cell_type": "code",
   "execution_count": 12,
   "metadata": {},
   "outputs": [
    {
     "data": {
      "text/plain": [
       "294"
      ]
     },
     "execution_count": 12,
     "metadata": {},
     "output_type": "execute_result"
    }
   ],
   "source": [
    "(df.Y == 0).sum()"
   ]
  },
  {
   "cell_type": "code",
   "execution_count": 13,
   "metadata": {},
   "outputs": [
    {
     "data": {
      "text/plain": [
       "306"
      ]
     },
     "execution_count": 13,
     "metadata": {},
     "output_type": "execute_result"
    }
   ],
   "source": [
    "(df.Y == 1).sum()"
   ]
  },
  {
   "cell_type": "code",
   "execution_count": 14,
   "metadata": {},
   "outputs": [],
   "source": [
    "dataset = df.to_numpy().astype(np.float32)\n",
    "train, val, test = dataset[0:300, ], dataset[300:450, ], dataset[450:600, ]\n",
    "train_x, train_y = train[:, 0:2], train[:, 2:3]\n",
    "val_x, val_y = val[:, 0:2], val[:, 2:3]\n",
    "test_x, test_y = test[:, 0:2], test[:, 2:3]\n",
    "DTrain = TensorDataset(torch.from_numpy(train_x), torch.from_numpy(train_y))\n",
    "DVal = TensorDataset(torch.from_numpy(val_x), torch.from_numpy(val_y))\n",
    "DTest = TensorDataset(torch.from_numpy(test_x), torch.from_numpy(test_y))\n",
    "\n",
    "train_loader = DataLoader(DTrain, batch_size = 32) \n",
    "val_loader = DataLoader(DVal, batch_size = 32) \n",
    "test_loader = DataLoader(DTest, batch_size = 32)"
   ]
  },
  {
   "cell_type": "code",
   "execution_count": 15,
   "metadata": {},
   "outputs": [],
   "source": [
    "def epoch_train(model, iterator, optimizer, criterion, device):\n",
    "\n",
    "    epoch_loss = 0\n",
    "    model.train()\n",
    "    prediction = []\n",
    "    label = []\n",
    "\n",
    "    for batch_idx, (data, target) in enumerate(iterator):\n",
    "        data, target = data.to(device), target.to(device)\n",
    "        optimizer.zero_grad()\n",
    "        output = model(data)\n",
    "        preds = torch.round(output)\n",
    "        loss = criterion(output, target)\n",
    "        loss.backward()\n",
    "        optimizer.step()\n",
    "        epoch_loss += loss.item() * len(target)\n",
    "        label.extend(target.tolist())\n",
    "        prediction.extend(preds.reshape(-1).tolist())\n",
    "\n",
    "    acc = accuracy_score(label, prediction)\n",
    "\n",
    "    return epoch_loss / len(iterator.dataset), acc\n",
    "\n",
    "def epoch_val(model, iterator, criterion, device):\n",
    "\n",
    "    epoch_loss = 0\n",
    "    model.eval()\n",
    "    prediction = []\n",
    "    label = []\n",
    "\n",
    "    with torch.no_grad():\n",
    "        for  batch_idx, (data, target) in enumerate(iterator):\n",
    "            data, target = data.to(device), target.to(device)\n",
    "            output = model(data)\n",
    "            preds = torch.round(output)\n",
    "            loss = criterion(output, target)\n",
    "            epoch_loss += loss.item() * len(target)\n",
    "            label.extend(target.tolist())\n",
    "            prediction.extend(preds.reshape(-1).tolist())\n",
    "\n",
    "    acc = accuracy_score(label, prediction)\n",
    "    return epoch_loss / len(iterator.dataset), acc\n"
   ]
  },
  {
   "cell_type": "code",
   "execution_count": 16,
   "metadata": {
    "scrolled": true
   },
   "outputs": [
    {
     "name": "stdout",
     "output_type": "stream",
     "text": [
      "Epoch : 0 | Train Loss: 0.568 | Train acc: 0.747\n",
      "Epoch : 0 | Val. Loss: 0.401 | Val acc: 0.853\n",
      "Epoch : 5 | Train Loss: 0.092 | Train acc: 0.990\n",
      "Epoch : 5 | Val. Loss: 0.099 | Val acc: 0.973\n",
      "Test. Loss: 0.066 | Test acc: 0.987\n"
     ]
    }
   ],
   "source": [
    "model = nn.Sequential(\n",
    "        nn.Linear(2, 20),\n",
    "        nn.ReLU(),\n",
    "        nn.Linear(20, 10),\n",
    "        nn.ReLU(),\n",
    "        nn.Linear(10, 1),\n",
    "        nn.Sigmoid(),\n",
    "        )\n",
    "\n",
    "#optimizer = optim.SGD(model.parameters(), lr = 0.02)\n",
    "optimizer = optim.Adam(model.parameters(), lr = 0.02)\n",
    "criterion = nn.BCELoss()\n",
    "device = torch.device(\"cpu\")\n",
    "model = model.to(device)\n",
    "criterion = criterion.to(device)\n",
    "\n",
    "best_model = None\n",
    "best_acc = -float('inf')\n",
    "\n",
    "\n",
    "for epoch in range(5):\n",
    "    train_loss, train_acc = epoch_train(model, train_loader, optimizer, criterion, device)\n",
    "    valid_loss, valid_acc = epoch_val(model, val_loader, criterion, device)\n",
    "\n",
    "    if valid_acc > best_acc:\n",
    "        best_model = copy.deepcopy(model)\n",
    "        best_acc = valid_acc\n",
    "\n",
    "    if epoch % 5 == 0:\n",
    "        print(f\"Epoch : {epoch} | Train Loss: {train_loss:.3f} | Train acc: {train_acc:.3f}\")\n",
    "        print(f\"Epoch : {epoch} | Val. Loss: {valid_loss:.3f} | Val acc: {valid_acc:.3f}\")\n",
    "\n",
    "test_loss, test_acc = epoch_val(best_model, test_loader, criterion, device)\n",
    "print(f\"Test. Loss: {test_loss:.3f} | Test acc: {test_acc:.3f}\")\n",
    "torch.save(best_model, \"synthetic_model_simple.pt\")\n"
   ]
  },
  {
   "cell_type": "markdown",
   "metadata": {},
   "source": [
    "# Plot contour lines"
   ]
  },
  {
   "cell_type": "code",
   "execution_count": 27,
   "metadata": {},
   "outputs": [],
   "source": [
    "xlist = np.linspace(-3.0, 3.0, 100)\n",
    "ylist = np.linspace(-3.0, 3.0, 100)\n",
    "X1, X2 = np.meshgrid(xlist, ylist)"
   ]
  },
  {
   "cell_type": "code",
   "execution_count": 28,
   "metadata": {},
   "outputs": [],
   "source": [
    "Z = np.c_[X1.ravel(), X2.ravel()]"
   ]
  },
  {
   "cell_type": "code",
   "execution_count": 29,
   "metadata": {},
   "outputs": [],
   "source": [
    "test_data = torch.from_numpy(Z.astype(np.float32))"
   ]
  },
  {
   "cell_type": "code",
   "execution_count": 30,
   "metadata": {},
   "outputs": [],
   "source": [
    "Y = best_model(test_data).detach().numpy()"
   ]
  },
  {
   "cell_type": "code",
   "execution_count": 31,
   "metadata": {},
   "outputs": [],
   "source": [
    "Y = Y.reshape(X1.shape)"
   ]
  },
  {
   "cell_type": "code",
   "execution_count": 32,
   "metadata": {},
   "outputs": [],
   "source": [
    "xlist1 = np.linspace(-3.0, 3.0, 20)\n",
    "ylist1 = np.linspace(-3.0, 3.0, 20)\n",
    "X1_, X2_ = np.meshgrid(xlist1, ylist1)\n",
    "Z_ = np.c_[X1_.ravel(), X2_.ravel()]\n",
    "test_data_ = torch.from_numpy(Z_.astype(np.float32))\n",
    "test_data_.requires_grad_(True)\n",
    "output = best_model(test_data_)\n",
    "output.sum().backward()\n"
   ]
  },
  {
   "cell_type": "code",
   "execution_count": 33,
   "metadata": {},
   "outputs": [],
   "source": [
    "gradient = test_data_.grad"
   ]
  },
  {
   "cell_type": "code",
   "execution_count": 34,
   "metadata": {},
   "outputs": [],
   "source": [
    "np_gradient = gradient.detach().numpy()\n",
    "np_gradient = np_gradient.reshape(20, 20, 2)"
   ]
  },
  {
   "cell_type": "code",
   "execution_count": 35,
   "metadata": {},
   "outputs": [
    {
     "data": {
      "image/png": "[encoded data removed]",
      "text/plain": [
       "<Figure size 432x432 with 1 Axes>"
      ]
     },
     "metadata": {
      "needs_background": "light"
     },
     "output_type": "display_data"
    }
   ],
   "source": [
    "from matplotlib.ticker import FormatStrFormatter\n",
    "ax = plt.gca()\n",
    "ax.tick_params(axis='both', which='major', labelsize=12)\n",
    "matplotlib.rcParams['contour.negative_linestyle'] = 'solid'\n",
    "fig = matplotlib.pyplot.gcf()\n",
    "fig.set_size_inches(6, 6)\n",
    "CS = ax.contourf(X1, X2, Y)#, cmap=plt.cm.PuBu)\n",
    "ax.quiver(X1_, X2_, np_gradient[:,:, 0], np_gradient[:,:, 1], units='xy', scale=0.5, color='gray')\n",
    "ax.clabel(CS, fontsize=18, inline=2, colors = 'white')\n",
    "ax.plot([-3.0, 0.54], [0.54, 0.54], linestyle = '-.', linewidth = 3, color = 'white')\n",
    "ax.plot([0.54, 0.54], [-3, 0.54], linestyle = '-.', linewidth = 3, color = 'white')\n",
    "ax.yaxis.set_major_formatter(FormatStrFormatter('%.1f'))\n",
    "ax.xaxis.set_major_formatter(FormatStrFormatter('%.1f'))"
   ]
  },
  {
   "cell_type": "code",
   "execution_count": null,
   "metadata": {},
   "outputs": [],
   "source": []
  }
 ],
 "metadata": {
  "kernelspec": {
   "display_name": "Python 3 (ipykernel)",
   "language": "python",
   "name": "python3"
  },
  "language_info": {
   "codemirror_mode": {
    "name": "ipython",
    "version": 3
   },
   "file_extension": ".py",
   "mimetype": "text/x-python",
   "name": "python",
   "nbconvert_exporter": "python",
   "pygments_lexer": "ipython3",
   "version": "3.7.13"
  }
 },
 "nbformat": 4,
 "nbformat_minor": 2
}
